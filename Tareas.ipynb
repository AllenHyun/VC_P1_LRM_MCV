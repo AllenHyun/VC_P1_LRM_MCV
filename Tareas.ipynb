{
 "cells": [
  {
   "cell_type": "code",
   "execution_count": 1,
   "id": "f09d75d3",
   "metadata": {},
   "outputs": [],
   "source": [
    "import cv2\n",
    "import numpy as np\n",
    "import matplotlib.pyplot as plt"
   ]
  },
  {
   "cell_type": "markdown",
   "id": "3ba396bd",
   "metadata": {},
   "source": [
    "## Tarea 1"
   ]
  },
  {
   "cell_type": "markdown",
   "id": "8df40a3e",
   "metadata": {},
   "source": [
    "Lo primero será darle dimensiones a la imagen para la primera tarea: dibujar un tablero de ajedrez de 800x800."
   ]
  },
  {
   "cell_type": "code",
   "execution_count": 2,
   "id": "07b7bd95",
   "metadata": {},
   "outputs": [],
   "source": [
    "#Dimensiones de la imagen a crear según la tarea\n",
    "ancho = 800\n",
    "alto = 800"
   ]
  },
  {
   "cell_type": "markdown",
   "id": "466ffcb7",
   "metadata": {},
   "source": [
    "Se le dará color a la imagen, resultando un fondo negro."
   ]
  },
  {
   "cell_type": "code",
   "execution_count": 3,
   "id": "887b327e",
   "metadata": {},
   "outputs": [
    {
     "name": "stdout",
     "output_type": "stream",
     "text": [
      "(800, 800, 1)\n"
     ]
    }
   ],
   "source": [
    "black_img = np.zeros((alto, ancho, 1), dtype=np.uint8)\n",
    "print(black_img.shape)"
   ]
  },
  {
   "cell_type": "markdown",
   "id": "5e6857f2",
   "metadata": {},
   "source": [
    "Se muestra la imagen con imshow. Lo que se hace es ir saltando en cuadrados de 100 x 100. Se suma la parte entera de cada columna y fila del bloque. Si es par, se pinta de blanco. Si no, de negro. De esta forma, los colores se van alternando para que parezca un tablero de ajedrez como se ha solicitado."
   ]
  },
  {
   "cell_type": "code",
   "execution_count": 4,
   "id": "ffa389b2",
   "metadata": {},
   "outputs": [
    {
     "data": {
      "image/png": "[encoded data removed]",
      "text/plain": [
       "<Figure size 640x480 with 1 Axes>"
      ]
     },
     "metadata": {},
     "output_type": "display_data"
    }
   ],
   "source": [
    "black_img = np.zeros((alto, ancho), dtype=np.uint8)\n",
    "for x in range(0, ancho, 100):\n",
    "    for y in range(0, alto, 100):\n",
    "        if (x//100 + y//100) % 2 == 0:\n",
    "            black_img[y:y+100, x:x+100] = 255\n",
    "        else:\n",
    "            black_img[y:y+100, x:x+100] = 0\n",
    "\n",
    "plt.imshow(black_img, cmap='gray')\n",
    "plt.show()"
   ]
  },
  {
   "cell_type": "markdown",
   "id": "d8485d2d",
   "metadata": {},
   "source": [
    "## Tarea 2"
   ]
  },
  {
   "cell_type": "markdown",
   "id": "e33717f9",
   "metadata": {},
   "source": [
    "Como segunda tarea se debe de crear una imagen con estilo Mondrian. Para ello, se vuelve a usar el fondo negro al que se le irá añadiendo los diferentes cuadros que forman este tipo de arte."
   ]
  },
  {
   "cell_type": "code",
   "execution_count": 5,
   "id": "0eeb990c",
   "metadata": {},
   "outputs": [
    {
     "data": {
      "image/png": "[encoded data removed]",
      "text/plain": [
       "<Figure size 640x480 with 1 Axes>"
      ]
     },
     "metadata": {},
     "output_type": "display_data"
    }
   ],
   "source": [
    "black_img = np.zeros((alto, ancho, 3), dtype=np.uint8)\n",
    "\n",
    "# Rojo\n",
    "black_img[0:600,250:ancho, 0] = 255 #tercer índice especifica un canal (0-2)\n",
    "\n",
    "# Blanco esquina izquierda superior\n",
    "black_img[0:300, 0:225, 0] = 255\n",
    "black_img[0:300, 0:225, 1] = 255\n",
    "black_img[0:300, 0:225, 2] = 255\n",
    "\n",
    "# Blanco lateral izquierdo\n",
    "black_img[340:600, 0:225, 0] = 255\n",
    "black_img[340:600, 0:225, 1] = 255\n",
    "black_img[340:600, 0:225, 2] = 255\n",
    "\n",
    "# Azul abajo a la izquierda\n",
    "black_img[630:800, 0:225, 2] = 255\n",
    "\n",
    "# Blanco abajo\n",
    "\n",
    "black_img[630:800, 250:700, 0] = 255\n",
    "black_img[630:800, 250:700, 1] = 255\n",
    "black_img[630:800, 250:700, 2] = 255\n",
    "\n",
    "# Blanco abajo a la derecha\n",
    "black_img[630:710, 710:800, 0] = 255\n",
    "black_img[630:710, 710:800, 1] = 255\n",
    "black_img[630:710, 710:800, 2] = 255\n",
    "\n",
    "# Amarillo abajo a la derecha\n",
    "black_img[720:800, 710:800, 0] = 255\n",
    "black_img[720:800, 710:800, 1] = 255\n",
    "black_img[720:800, 710:800, 2] = 0\n",
    "\n",
    "\n",
    "plt.imshow(black_img)\n",
    "plt.show()"
   ]
  },
  {
   "cell_type": "markdown",
   "id": "b8fdb6d7",
   "metadata": {},
   "source": [
    "## Tarea 5"
   ]
  },
  {
   "cell_type": "markdown",
   "id": "c77fbc04",
   "metadata": {},
   "source": [
    "Se usará la cámara y así se obtienen las dimensiones de la imagen que capta esta. Por otro lado, se convierte la imagen de BGR a HSV (tono, saturación, brillo, respectivamente). Es este caso, los valores más importantes son los asociados a la v, el brillo. El círculo azul captura el punto más claro y el rojo, el píxel más oscuro. Para finalizar, se muestra la iamgen y se sale de la cámara pulsando la tecla ESC."
   ]
  },
  {
   "cell_type": "code",
   "execution_count": 6,
   "id": "c3112a78",
   "metadata": {},
   "outputs": [],
   "source": [
    "vid = cv2.VideoCapture(0)\n",
    "\n",
    "while(True):\n",
    "    ret, frame = vid.read()\n",
    "\n",
    "    if ret:\n",
    "        frameHSV = cv2.cvtColor(frame, cv2.COLOR_BGR2HSV)\n",
    "        h, s, v = cv2.split(frameHSV)\n",
    "        minVal, maxVal, minLoc, maxLoc = cv2.minMaxLoc(v)\n",
    "        # En azul tenemos el valor del pixel más claro\n",
    "        cv2.circle(frame, maxLoc, 10, (255, 0, 0), 2)\n",
    "\n",
    "        # En rojo tenemos el valor del pixel más oscuro\n",
    "        cv2.circle(frame, minLoc, 10, (0, 0, 255), 2)\n",
    "\n",
    "\n",
    "        cv2.imshow('Original', frame)\n",
    "\n",
    "    if cv2.waitKey(20) == 27:\n",
    "        break\n",
    "\n",
    "vid.release()\n",
    "cv2.destroyAllWindows()"
   ]
  }
 ],
 "metadata": {
  "kernelspec": {
   "display_name": "Python 3",
   "language": "python",
   "name": "python3"
  },
  "language_info": {
   "codemirror_mode": {
    "name": "ipython",
    "version": 3
   },
   "file_extension": ".py",
   "mimetype": "text/x-python",
   "name": "python",
   "nbconvert_exporter": "python",
   "pygments_lexer": "ipython3",
   "version": "3.11.5"
  }
 },
 "nbformat": 4,
 "nbformat_minor": 5
}
