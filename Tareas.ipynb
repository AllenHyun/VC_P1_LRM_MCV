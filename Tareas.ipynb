{
 "cells": [
  {
   "cell_type": "code",
   "execution_count": null,
   "id": "f09d75d3",
   "metadata": {},
   "outputs": [],
   "source": [
    "import cv2\n",
    "import numpy as np\n",
    "import matplotlib.pyplot as plt"
   ]
  },
  {
   "cell_type": "markdown",
   "id": "8df40a3e",
   "metadata": {},
   "source": [
    "Lo primero será darle dimensiones a la imagen para la primera tarea: dibujar un tablero de ajedrez de 800x800."
   ]
  },
  {
   "cell_type": "code",
   "execution_count": null,
   "id": "07b7bd95",
   "metadata": {},
   "outputs": [],
   "source": [
    "#Dimensiones de la imagen a crear según la tarea\n",
    "ancho = 800\n",
    "alto = 800"
   ]
  },
  {
   "cell_type": "markdown",
   "id": "466ffcb7",
   "metadata": {},
   "source": [
    "Le damos color a la imagen, resultando un fondo negro."
   ]
  },
  {
   "cell_type": "code",
   "execution_count": null,
   "id": "887b327e",
   "metadata": {},
   "outputs": [],
   "source": [
    "black_img = np.zeros((alto, ancho, 1), dtype=np.uint8)\n",
    "print(black_img.shape)"
   ]
  },
  {
   "cell_type": "markdown",
   "id": "5e6857f2",
   "metadata": {},
   "source": [
    "Mostramos la imagen con imshow. Lo que se hace es ir saltando en cuadrados de 100 x 100. Se suma la parte entera de cada columna y fila del bloque. Si es par, pintamos de blanco. Si no, de negro. De esta forma, los colores se van alternando para que parezca un tablero de ajedrez como se ha solicitado."
   ]
  },
  {
   "cell_type": "code",
   "execution_count": null,
   "id": "ffa389b2",
   "metadata": {},
   "outputs": [],
   "source": [
    "black_img = np.zeros((alto, ancho), dtype=np.uint8)\n",
    "for x in range(0, ancho, 100):\n",
    "    for y in range(0, alto, 100):\n",
    "        if (x//100 + y//100) % 2 == 0:\n",
    "            black_img[y:y+100, x:x+100] = 255\n",
    "        else:\n",
    "            black_img[y:y+100, x:x+100] = 0\n",
    "\n",
    "plt.imshow(black_img, cmap='gray')\n",
    "plt.show()"
   ]
  }
 ],
 "metadata": {
  "kernelspec": {
   "display_name": "Python 3",
   "language": "python",
   "name": "python3"
  },
  "language_info": {
   "name": "python",
   "version": "3.11.5"
  }
 },
 "nbformat": 4,
 "nbformat_minor": 5
}
